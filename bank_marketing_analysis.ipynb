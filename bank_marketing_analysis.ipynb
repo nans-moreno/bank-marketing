{
 "cells": [
  {
   "cell_type": "markdown",
   "metadata": {},
   "source": [
    "# Analyse du Marketing Bancaire avec PyCaret"
   ]
  },
  {
   "cell_type": "markdown",
   "metadata": {},
   "source": [
    "## Introduction\nCe notebook présente une analyse complète des données de marketing bancaire, en utilisant des concepts d'apprentissage automatique et la bibliothèque PyCaret. L'objectif est de comprendre les facteurs qui influencent l'adhésion des clients aux dépôts à terme et de construire un modèle prédictif pour identifier les clients potentiels."
   ]
  },
  {
   "cell_type": "markdown",
   "metadata": {},
   "source": [
    "## Préparation et Exploration des Données"
   ]
  },
  {
   "cell_type": "code",
   "execution_count": null,
   "metadata": {},
   "outputs": [],
   "source": [
    "import pandas as pd\nimport matplotlib.pyplot as plt\nimport seaborn as sns\n\n# Charger le dataset\n# Assurez-vous que le fichier CSV est au bon endroit ou ajustez le chemin\n# df = pd.read_csv(\"/home/ubuntu/bank_marketing_data/bank-additional-full.csv\")\n# Pour ce notebook, nous allons utiliser le fichier bank_preprocessed.csv qui a été généré précédemment.\n# Si ce fichier n'existe pas, veuillez exécuter les étapes de prétraitement.\n\ndf = pd.read_csv(\"/home/ubuntu/bank_marketing_data/bank_preprocessed.csv\")\n\nprint(\"Aperçu des données :\")\nprint(df.head())\n\nprint(\"Informations sur les données :\")\nprint(df.info())\n\nprint(\"Statistiques descriptives :\")\nprint(df.describe())"
   ]
  },
  {
   "cell_type": "markdown",
   "metadata": {},
   "source": [
    "## Visualisations des Données"
   ]
  },
  {
   "cell_type": "code",
   "execution_count": null,
   "metadata": {},
   "outputs": [],
   "source": [
    "# 1. Distribution de la variable cible 'y'\nplt.figure(figsize=(6, 4))\nsns.countplot(x='y', data=df)\nplt.title('Distribution de la variable cible (y)')\nplt.show()\n\n# 2. Distribution de quelques caractéristiques numériques clés\nnumeric_features = ['age', 'balance', 'duration', 'campaign', 'pdays', 'previous']\n\nfor feature in numeric_features:\n    plt.figure(figsize=(8, 5))\n    sns.histplot(df[feature], kde=True)\n    plt.title(f'Distribution de {feature}')\n    plt.show()\n\n# 3. Comptage des caractéristiques catégorielles clés (après encodage one-hot)\ncategorical_prefixes = {\n    'job': [col for col in df.columns if col.startswith('job_')],\n    'marital': [col for col in df.columns if col.startswith('marital_')],\n    'education': [col for col in df.columns if col.startswith('education_')],\n    'default': [col for col in df.columns if col.startswith('default_')],\n    'housing': [col for col in df.columns if col.startswith('housing_')],\n    'loan': [col for col in df.columns if col.startswith('loan_')],\n    'contact': [col for col in df.columns if col.startswith('contact_')],\n    'month': [col for col in df.columns if col.startswith('month_')],\n    'poutcome': [col for col in df.columns if col.startswith('poutcome_')],\n}\n\nfor original_feature, encoded_cols in categorical_prefixes.items():\n    if encoded_cols:\n        counts = df[encoded_cols].sum().sort_values(ascending=False)\n        plt.figure(figsize=(10, 6))\n        sns.barplot(x=counts.values, y=counts.index)\n        plt.title(f'Comptage de {original_feature}')\n        plt.tight_layout()\n        plt.show()\n\n# 4. Matrice de corrélation pour les caractéristiques numériques\nplt.figure(figsize=(12, 10))\nsns.heatmap(df[numeric_features].corr(), annot=True, cmap='coolwarm', fmt='.2f')\nplt.title('Matrice de corrélation des caractéristiques numériques')\nplt.show()"
   ]
  },
  {
   "cell_type": "markdown",
   "metadata": {},
   "source": [
    "## Modélisation Prédictive avec PyCaret"
   ]
  },
  {
   "cell_type": "code",
   "execution_count": null,
   "metadata": {},
   "outputs": [],
   "source": [
    "from pycaret.classification import setup, compare_models, pull, save_model\n\n# Initialiser l'environnement PyCaret\n# La variable cible est 'y'\nexp = setup(data = df, target = 'y', session_id = 123, silent=True, verbose=False)\n\n# Comparer tous les modèles\nbest_model = compare_models()\n\n# Afficher les résultats de la comparaison\nprint(\"\nTableau de performances des modèles entraînés :\n\")\nprint(pull())\n\n# Afficher le meilleur modèle\nprint(\"\nLe meilleur modèle est :\n\")\nprint(best_model)\n\n# Sauvegarder le meilleur modèle\nsave_model(best_model, 'best_pycaret_model')\nprint(\"\nMeilleur modèle sauvegardé sous best_pycaret_model.pkl\")"
   ]
  },
  {
   "cell_type": "markdown",
   "metadata": {},
   "source": [
    "## Conclusion\nCe notebook a démontré les étapes d'analyse des données de marketing bancaire, de la préparation à la modélisation prédictive avec PyCaret. Le modèle LightGBM s'est avéré être le plus performant pour prédire l'adhésion aux dépôts à terme."
   ]
  }
 ],
 "metadata": {
  "kernelspec": {
   "display_name": "Python 3",
   "language": "python",
   "name": "python3"
  },
  "language_info": {
   "codemirror_mode": {
    "name": "ipython",
    "version": 3
   },
   "file_extension": ".py",
   "mimetype": "text/x-python",
   "name": "python",
   "nbconvert_exporter": "python",
   "pygments_lexer": "ipython3",
   "version": "3.9.19"
  }
 },
 "nbformat": 4,
 "nbformat_minor": 4
}

